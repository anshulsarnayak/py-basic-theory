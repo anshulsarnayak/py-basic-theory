{
 "cells": [
  {
   "cell_type": "markdown",
   "metadata": {},
   "source": [
    "1. In the below elements which of them are values or an expression? eg:- values can be integer or string and expressions will be mathematical operators.\n",
    "* \n",
    "'hello'\n",
    "-87.8\n",
    "- \n",
    "/ \n",
    "6 \n",
    "Expressions :  *  -   /   \n",
    "values : 'hello'  -87.8   6\n",
    "\n",
    "2. What is the difference between string and variable?\n",
    ": string is a type of data given while variable is one which stores the data(info).\n",
    "\n",
    "3. Describe three different data types.\n",
    ": int() : it stores integer data e.g, 5,-8\n",
    "  float() : it stores Real no. (decimal) data e.g, 1.43 , -3.14\n",
    "  bool(): it stores value 0 or 1 (false or true)\n",
    "\n",
    "4. What is an expression made up of? What do  all expressions do?\n",
    ": expression is combination of operands and operators that yeilds a value . All expressions does is performs a task .\n",
    "\n",
    "5. This assignment statements, like spam = 10. What is the difference between an expression and a statement?\n",
    ":  \n",
    " an expression is the one who always returns the value a statement assign,declares,compares value of one var to another var in simple it doen't return or print anything .\n",
    "\n",
    "\n",
    "6. After running the following code, what does the variable bacon contain?\n",
    "bacon = 22\n",
    "bacon + 1\n",
    ": bacon contain value equals 22\n",
    "\n",
    "7. What should the values of the following two terms be?\n",
    "'spam' + 'spamspam'\n",
    "'spam' * 3\n",
    ":'spamspamspam'\n",
    ":'spamspamspam'\n",
    "\n",
    "8. Why is eggs a valid variable name while 100 is invalid?\n",
    ": Because 100 is a value so we can't store something in it .\n",
    "\n",
    "9. What three functions can be used to get the integer, floating-point number, or string version of a value?\n",
    ":int(), float() , str()\n",
    "\n",
    "10. Why does this expression cause an error? How can you fix it?\n",
    "'I have eaten ' + 99 + ' burritos.'\n",
    ": these expression cause error because we can't add string with integer\n",
    "we have typecast 99 to string by str(99) or \"99\""
   ]
  }
 ],
 "metadata": {
  "kernelspec": {
   "display_name": "Python 3",
   "language": "python",
   "name": "python3"
  },
  "language_info": {
   "codemirror_mode": {
    "name": "ipython",
    "version": 3
   },
   "file_extension": ".py",
   "mimetype": "text/x-python",
   "name": "python",
   "nbconvert_exporter": "python",
   "pygments_lexer": "ipython3",
   "version": "3.8.0"
  }
 },
 "nbformat": 4,
 "nbformat_minor": 4
}
