{
 "cells": [
  {
   "cell_type": "markdown",
   "metadata": {},
   "source": [
    "1. What are escape characters, and how do you use them?\n",
    ": we use 'backslash'(\\) to use the escape characters . escape characters allow one to use special characters in a string and we  use them with the help of backslash e.g, \\b,\\t \n",
    "\n",
    "2. What do the escape characters n and t stand for?\n",
    ": escape characters n and t stand for new line and tab respctivley.\n",
    "\n",
    "3. What is the way to include backslash characters in a string?\n",
    ": we have to give to continue backslash to get a backslash characters in a string(print(\"hey\\\\n\")).\n",
    "\n",
    "4. The string \"Howl's Moving Castle\" is a correct value. Why isn't the single quote character in the word Howl's not escaped a problem?\n",
    ": The single quote is fine because here we used double quote at end and start of string.\n",
    "\n",
    "5. How do you write a string of newlines if you don't want to use the n character?\n",
    ": By using multiple strings we can prevent using of \\n character.\n",
    "\n",
    "6. What are the values of the given expressions?\n",
    "'Hello, world!'[1]  : 'e'\n",
    "'Hello, world!'[0:5]: 'Hello'\n",
    "'Hello, world!'[:5] : 'Hello'\n",
    "'Hello, world!'[3:] : 'lo, world!'\n",
    "\n",
    "7. What are the values of the following expressions?\n",
    "'Hello'.upper()            : 'HELLO'\n",
    "'Hello'.upper().isupper()  :  True\n",
    "'Hello'.upper().lower()    : 'hello'\n",
    "\n",
    "8. What are the values of the following expressions?\n",
    "'Remember, remember, the fifth of July.'.split() : ['Remember,', 'remember,', 'the', 'fifth', 'of', 'July.']\n",
    "'-'.join('There can only one.'.split())          : 'There-can-only-one.'\n",
    "\n",
    "9. What are the methods for right-justifying, left-justifying, and centering a string?\n",
    ": rjust(),ljust(),center()\n",
    "\n",
    "10. What is the best way to remove whitespace characters from the start or end?\n",
    ": lstrip(),rstrip() remove whitespace characters from the start or end.\n"
   ]
  }
 ],
 "metadata": {
  "kernelspec": {
   "display_name": "Python 3",
   "language": "python",
   "name": "python3"
  },
  "language_info": {
   "codemirror_mode": {
    "name": "ipython",
    "version": 3
   },
   "file_extension": ".py",
   "mimetype": "text/x-python",
   "name": "python",
   "nbconvert_exporter": "python",
   "pygments_lexer": "ipython3",
   "version": "3.8.0"
  }
 },
 "nbformat": 4,
 "nbformat_minor": 4
}
