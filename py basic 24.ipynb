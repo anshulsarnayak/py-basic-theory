{
 "cells": [
  {
   "cell_type": "markdown",
   "metadata": {},
   "source": [
    "1. What is the relationship between def statements and lambda expressions ?\n",
    ":\n",
    "def keyword creates a function with a fuction name while lambda doesn't require name also it's of one expression.\n",
    "\n",
    "2. What is the benefit of lambda?\n",
    ":\n",
    "it creates small Anonymous function .\n",
    "\n",
    "3. Compare and contrast map, filter, and reduce.\n",
    ": reduce() works differently than map() and filter() . It does not return a new list based on the function and iterable we've passed. Instead, it returns a single value.The basic function of map() is to manipulate iterables while filter() is used to filter the iterables as per the conditions.\n",
    "\n",
    "4. What are function annotations, and how are they used?\n",
    ": function annotations allows you to add arbitrary metadata to function parameters and return value.\n",
    "Function annotations, both for parameters and return values, are completely optional. Function annotations are nothing more than a way of associating arbitrary Python expressions with various parts of a function at compile-time. \n",
    "\n",
    "5. What are recursive functions, and how are they used?\n",
    ":\n",
    "recursive functons are the functions which once are called do the one thing again and again until the expected result we get.\n",
    "they are used by calling the same function from inside of that function .\n",
    "def num(n):\n",
    "    print(n)\n",
    "    if n>0:\n",
    "        num(n-1)\n",
    "\n",
    "6. What are some general design guidelines for coding functions?\n",
    ":\n",
    "always use def keyword with function name ,use docstring ,identation should be correct and function should return results.\n",
    "\n",
    "7. Name three or more ways that functions can communicate results to a caller.\n",
    ": by Return keyword , by print() function , by comprehension if possible."
   ]
  }
 ],
 "metadata": {
  "kernelspec": {
   "display_name": "Python 3",
   "language": "python",
   "name": "python3"
  },
  "language_info": {
   "codemirror_mode": {
    "name": "ipython",
    "version": 3
   },
   "file_extension": ".py",
   "mimetype": "text/x-python",
   "name": "python",
   "nbconvert_exporter": "python",
   "pygments_lexer": "ipython3",
   "version": "3.8.0"
  }
 },
 "nbformat": 4,
 "nbformat_minor": 4
}
