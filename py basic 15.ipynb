{
 "cells": [
  {
   "cell_type": "markdown",
   "metadata": {},
   "source": [
    "1. How many seconds are in an hour? Use the interactive interpreter as a calculator and multiply the number of seconds in a     minute (60) by the number of minutes in an hour (also 60).\n",
    ":3600s.\n",
    "\n",
    "2. Assign the result from the previous task (seconds in an hour) to a variable called seconds_per_hour.\n",
    ": seconds_per_hour=3600\n",
    "\n",
    "3. How many seconds do you think there are in a day? Make use of the variables seconds per hour and minutes per hour.\n",
    ": seconds_per_hour*24 (86400s) or\n",
    "  minutes_per_hour*24 (1440m)\n",
    "\n",
    "4. Calculate seconds per day again, but this time save the result in a variable called seconds_per_day\n",
    ": seconds_per_day=seconds_per_hour*24\n",
    "\n",
    "5. Divide seconds_per_day by seconds_per_hour. Use floating-point (/) division.\n",
    ": seconds_per_day/seconds_per_hour   (24.0)\n",
    "\n",
    "6. Divide seconds_per_day by seconds_per_hour, using integer (//) division. Did this number agree with the floating-point value from the previous question, aside from the final .0?\n",
    ":\n",
    "seconds_per_day//seconds_per_hour  (24).No now the number is integer.\n",
    "\n",
    "7. Write a generator, genPrimes, that returns the sequence of prime numbers on successive calls to its next() method: 2, 3, 5, 7, 11, ...\n",
    ":\n",
    "def genprime(k):\n",
    "    for n in range(2,k):\n",
    "        f = False\n",
    "        if n > 1:\n",
    "            if n==2:\n",
    "                yield n\n",
    "            for i in range(2, n):\n",
    "                if (n % i) == 0:\n",
    "                    f = True\n",
    "                    break\n",
    "        if f:\n",
    "            pass\n",
    "        else:\n",
    "            yield n\n",
    "\n",
    "v= genprime(1000)\n",
    "print(v.__next__())\n"
   ]
  }
 ],
 "metadata": {
  "kernelspec": {
   "display_name": "Python 3",
   "language": "python",
   "name": "python3"
  },
  "language_info": {
   "codemirror_mode": {
    "name": "ipython",
    "version": 3
   },
   "file_extension": ".py",
   "mimetype": "text/x-python",
   "name": "python",
   "nbconvert_exporter": "python",
   "pygments_lexer": "ipython3",
   "version": "3.8.0"
  }
 },
 "nbformat": 4,
 "nbformat_minor": 4
}
