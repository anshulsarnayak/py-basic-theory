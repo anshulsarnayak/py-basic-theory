{
 "cells": [
  {
   "cell_type": "markdown",
   "metadata": {},
   "source": [
    "1. Create a zoo.py file first. Define the hours() function, which prints the string 'Open 9-5 daily'. Then, use the interactive interpreter to import the zoo module and call its hours() function.\n",
    ":def hours():\n",
    "    print('Open 9-5 daily')\n",
    "2. In the interactive interpreter, import the zoo module as menagerie and call its hours() function.\n",
    ":\n",
    "hours()\n",
    "Open 9-5 daily\n",
    "\n",
    "3. Using the interpreter, explicitly import and call the hours() function from zoo.\n",
    ":\n",
    "import zoo\n",
    "hours()\n",
    "\n",
    "4. Import the hours() function as info and call it.\n",
    ":\n",
    ">>> from zoo import hours as info\n",
    ">>> info\n",
    "<function hours at 0x036582B0>\n",
    "\n",
    "5. Create a plain dictionary with the key-value pairs 'a': 1, 'b': 2, and 'c': 3, and print it out.\n",
    ":\n",
    "d={'a': 1, 'b': 2,'c': 3}\n",
    "d\n",
    "\n",
    "6. Make an OrderedDict called fancy from the same pairs listed in 5 and print it. Did it print in the same order as plain?\n",
    ": yes it printed same order as above but not in plain but with OrderDict keyword in start and as tuples in order.\n",
    "\n",
    "7. Make a default dictionary called dict_of_lists and pass it the argument list. Make the list dict_of_lists['a'] and append the value 'something for a' to it in one assignment. Print dict_of_lists['a'].\n",
    ":\n",
    "dict_of_lists={}\n",
    "dict_of_lists['a']='something for a'\n",
    "dict_of_lists['a']\n",
    ">>>'something for a'"
   ]
  }
 ],
 "metadata": {
  "kernelspec": {
   "display_name": "Python 3",
   "language": "python",
   "name": "python3"
  },
  "language_info": {
   "codemirror_mode": {
    "name": "ipython",
    "version": 3
   },
   "file_extension": ".py",
   "mimetype": "text/x-python",
   "name": "python",
   "nbconvert_exporter": "python",
   "pygments_lexer": "ipython3",
   "version": "3.8.0"
  }
 },
 "nbformat": 4,
 "nbformat_minor": 4
}
