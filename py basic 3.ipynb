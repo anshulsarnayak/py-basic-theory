{
 "cells": [
  {
   "cell_type": "markdown",
   "metadata": {},
   "source": [
    "1. Why are functions advantageous to have in your programs?\n",
    ":    functions make progaram easy to write and to understand it.\n",
    "\n",
    "2. When does the code in a function run: when it's specified or when it's called?\n",
    ": When the function is called.\n",
    "\n",
    "3. What statement creates a function?\n",
    ": Def call creates a function.\n",
    "\n",
    "4. What is the difference between a function and a function call?\n",
    ": a function has some task which can be done in it while function call calls the function to perform the tasks\n",
    "\n",
    "5. How many global scopes are there in a Python program? How many local scopes?\n",
    ": there is only one global scope in python program and local scopes are created when the fun is called.\n",
    "\n",
    "6. What happens to variables in a local scope when the function call returns?\n",
    ": when the function call stops it becomes undefined.\n",
    "\n",
    "7. What is the concept of a return value? Is it possible to have a return value in an expression?\n",
    ":  return value is a value which is returned after a function it returns this value as a functions value.\n",
    "   return value can only be used in function .\n",
    "   \n",
    "\n",
    "8. If a function does not have a return statement, what is the return value of a call to that function?\n",
    ": None\n",
    "\n",
    "9. How do you make a function variable refer to the global variable?\n",
    ": by using global keyword with variable.\n",
    "\n",
    "10. What is the data type of None?\n",
    ":type of None is NoneType.\n",
    "\n",
    "11. What does the sentence import areallyourpetsnamederic do?\n",
    ": it imports module areallyourpetsnamederic (if there is one).\n",
    "\n",
    "12. If you had a bacon() feature in a spam module, what would you call it after importing spam?\n",
    ":    spam.bacon()\n",
    "\n",
    "13. What can you do to save a programme from crashing if it encounters an error?\n",
    ":   We can use try and except .\n",
    "\n",
    "14. What is the purpose of the try clause? What is the purpose of the except clause?\n",
    ": try clause let's you test block of code with errors and except clause let's you handle the error by giving you exception."
   ]
  }
 ],
 "metadata": {
  "kernelspec": {
   "display_name": "Python 3",
   "language": "python",
   "name": "python3"
  },
  "language_info": {
   "codemirror_mode": {
    "name": "ipython",
    "version": 3
   },
   "file_extension": ".py",
   "mimetype": "text/x-python",
   "name": "python",
   "nbconvert_exporter": "python",
   "pygments_lexer": "ipython3",
   "version": "3.8.0"
  }
 },
 "nbformat": 4,
 "nbformat_minor": 4
}
