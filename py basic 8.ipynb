{
 "cells": [
  {
   "cell_type": "markdown",
   "metadata": {},
   "source": [
    "1. Is the Python Standard Library included with PyInputPlus?\n",
    ": no we have to install the pyinputplus liabrary.\n",
    "\n",
    "2. Why is PyInputPlus commonly imported with import pyinputplus as pypi?\n",
    ": as it makes is to write a code and also for understanding to others as it is prefferd mostly to write as 'pyip' .\n",
    "\n",
    "3. How do you distinguish between inputInt() and inputFloat()?\n",
    ": inputint() returns int value if the given no. is an integer (not for float) while inputFloat() returns float for int and       float.\n",
    "\n",
    "4. Using PyInputPlus, how do you ensure that the user enters a whole number between 0 and 99?\n",
    ": by using ,  pyip.inputInt(max=99)\n",
    "\n",
    "5. What is transferred to the keyword arguments allowRegexes and blockRegexes?\n",
    ": at defualt allowRegexes=None,blockRegexes=None , but we can get some pattern or numbers to be in it for allowence or blocking\n",
    "  like if, \n",
    "  pyip.inputInt(blockRegexes= [r'[13579]$']\n",
    "  when we use above we will block all numbers containing 1,3,5,7,9 basically all odd no.\n",
    "  \n",
    "6. If a blank input is entered three times, what does inputStr(limit=3) do?\n",
    ": then it raises exception i.e, RetryLimitException .\n",
    "\n",
    "7. If blank input is entered three times, what does inputStr(limit=3, default='hello') do?\n",
    ": it gives output as 'hello'."
   ]
  }
 ],
 "metadata": {
  "kernelspec": {
   "display_name": "Python 3",
   "language": "python",
   "name": "python3"
  },
  "language_info": {
   "codemirror_mode": {
    "name": "ipython",
    "version": 3
   },
   "file_extension": ".py",
   "mimetype": "text/x-python",
   "name": "python",
   "nbconvert_exporter": "python",
   "pygments_lexer": "ipython3",
   "version": "3.8.0"
  }
 },
 "nbformat": 4,
 "nbformat_minor": 4
}
