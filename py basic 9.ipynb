{
 "cells": [
  {
   "cell_type": "markdown",
   "metadata": {},
   "source": [
    "1. To what does a relative path refer?\n",
    ": A relative path refers to a location that is relative to a current directory.\n",
    "\n",
    "2. What does an absolute path start with your operating system?\n",
    ": it starts with c dirctory c:\\ like that.\n",
    "\n",
    "3. What do the functions os.getcwd() and os.chdir() do?\n",
    ": os.getcwd() gives us current working directory while os.chdir() changes directory to what is given with in it.\n",
    "\n",
    "4. What are the . and .. folders?\n",
    ": cd. will leave the user in the same directory they are currently in and  cd .. will get us back to previous one folder path\n",
    "\n",
    "5. In C:\\bacon\\eggs\\spam.txt, which part is the dir name, and which part is the base name?\n",
    ": here dir name is \"C:\\bacon\\eggs\" and base name is spam.txt . \n",
    "\n",
    "6. What are the three “mode” arguments that can be passed to the open() function?\n",
    ": modes to open() function are r,w,a.\n",
    "\n",
    "7. What happens if an existing file is opened in write mode?\n",
    ": then the existing file will be emptied for new operations of write mode.\n",
    "\n",
    "8. How do you tell the difference between read() and readlines()?\n",
    ": read() reads the whole file while readlines() only reads a single line of where cursor is. \n",
    "\n",
    "9. What data structure does a shelf value resemble?\n",
    ": it resembles Dictionary."
   ]
  },
  {
   "cell_type": "code",
   "execution_count": null,
   "metadata": {},
   "outputs": [],
   "source": []
  }
 ],
 "metadata": {
  "kernelspec": {
   "display_name": "Python 3",
   "language": "python",
   "name": "python3"
  },
  "language_info": {
   "codemirror_mode": {
    "name": "ipython",
    "version": 3
   },
   "file_extension": ".py",
   "mimetype": "text/x-python",
   "name": "python",
   "nbconvert_exporter": "python",
   "pygments_lexer": "ipython3",
   "version": "3.8.0"
  }
 },
 "nbformat": 4,
 "nbformat_minor": 4
}
