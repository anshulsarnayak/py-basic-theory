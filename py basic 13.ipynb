{
 "cells": [
  {
   "cell_type": "markdown",
   "metadata": {},
   "source": [
    "1. What advantages do Excel spreadsheets have over CSV spreadsheets?\n",
    ": \n",
    "1.multiple worksheets,\n",
    "2.Have types rather than all as string,\n",
    "3.have images and charts.\n",
    "\n",
    "2. What do you pass to csv.reader() and csv.writer() to create reader and writer objects?\n",
    ": we pass opened csv file.(file object)\n",
    "\n",
    "import csv\n",
    "f=open('C:\\Users\\acer\\Downloads\\tested.csv')\n",
    "r=csv.reader(f)\n",
    "\n",
    "3. What modes do File objects for reader and writer objects need to be opened in?\n",
    ": for reader objects in \"r\" and for writer objects in \"w\"\n",
    "\n",
    "4. What method takes a list argument and writes it to a CSV file?\n",
    ":  writerow() method \n",
    "\n",
    "5. What do the keyword arguments delimiter and line terminator do? \n",
    ": \n",
    "delimiter : it changes space betweeen cells(by default comma)\n",
    "line terminator : it changes end of row (by default \\n)\n",
    "\n",
    "6. What function takes a string of JSON data and returns a Python data structure?\n",
    ": \n",
    " json.load() / loads()  and returns dictionary.\n",
    "\n",
    "7. What function takes a Python data structure and returns a string of JSON data?\n",
    ": json.dumps()\n"
   ]
  }
 ],
 "metadata": {
  "kernelspec": {
   "display_name": "Python 3",
   "language": "python",
   "name": "python3"
  },
  "language_info": {
   "codemirror_mode": {
    "name": "ipython",
    "version": 3
   },
   "file_extension": ".py",
   "mimetype": "text/x-python",
   "name": "python",
   "nbconvert_exporter": "python",
   "pygments_lexer": "ipython3",
   "version": "3.8.0"
  }
 },
 "nbformat": 4,
 "nbformat_minor": 4
}
