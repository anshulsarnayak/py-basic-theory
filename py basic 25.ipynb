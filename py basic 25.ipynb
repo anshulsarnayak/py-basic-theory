{
 "cells": [
  {
   "cell_type": "markdown",
   "metadata": {},
   "source": [
    "1) What is the difference between enclosing a list comprehension in square brackets and parentheses?\n",
    ": When we enclose list comprehension with square brackets it gives us output while when we enclose it with parentheses it   creates a generator.\n",
    "\n",
    "2) What is the relationship between generators and iterators?\n",
    ":\n",
    "A generator in python makes use of the 'yield' keyword. A python iterator doesn't. Python generator saves the states of the local variables every time 'yield' pauses the loop in python. An iterator does not make use of local variables, all it needs is iterable to iterate on.\n",
    "\n",
    "3) What are the signs that a function is a generator function?\n",
    ": If the function has yield rather than return or if it's a list  coprehensions with parentheses.\n",
    "\n",
    "4) What is the purpose of a yield statement?\n",
    ": The purpose of yield is to create a Generator.\n",
    "\n",
    "5) What is the relationship between map calls and list comprehensions? Make a comparison and contrast between the two.\n",
    ":\n",
    "List comprehension are used when a list of results is required as map only returns a map object and does not return any list.\n",
    "List comprehension is faster than map when we need to evaluate expressions that are too long or complicated to express and\n",
    "Map is faster in case of calling an already defined function\n"
   ]
  }
 ],
 "metadata": {
  "kernelspec": {
   "display_name": "Python 3",
   "language": "python",
   "name": "python3"
  },
  "language_info": {
   "codemirror_mode": {
    "name": "ipython",
    "version": 3
   },
   "file_extension": ".py",
   "mimetype": "text/x-python",
   "name": "python",
   "nbconvert_exporter": "python",
   "pygments_lexer": "ipython3",
   "version": "3.8.0"
  }
 },
 "nbformat": 4,
 "nbformat_minor": 4
}
