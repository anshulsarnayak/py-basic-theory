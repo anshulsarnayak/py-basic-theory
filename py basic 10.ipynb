{
 "cells": [
  {
   "cell_type": "markdown",
   "metadata": {},
   "source": [
    " 1. How do you distinguish betn Shutil copy () and Shutil Copytree () ?\n",
    ": shutil copy () will copy a single file while shutil copytree () will copy an entire folder in it. \n",
    "\n",
    "2. What function is used to rename files?\n",
    ": os.rename()function is used to rename file and os.renames()function is used to rename files. \n",
    "\n",
    "3. What is the difference between the delete functions in the send2trash and shutil modules?\n",
    ": send2trash() moves item to recycle bin while shutil module deletes permenantly. \n",
    "\n",
    "4. ZipFile objects have a close() method just like File objects’ close() method. What ZipFile method is equivalent to File    objects’ open() method?\n",
    ": the syntax for opening file and zipfile is same with differnt function as open(\"dbdbh.txt\",\"r\") and zipfile(file_name,\"r\").\n",
    "\n",
    "5. Create a programme that searches a folder tree for files with a certain file extension (such as .pdf or .jpg). Copy these    files from whatever location they are in to a new folder.\n",
    ":\n",
    "\n",
    "import os\n",
    "\n",
    "E=['.pdf','.jpg']\n",
    "\n",
    "def get_file_list(root_dir,E):\n",
    "    file_list=[]\n",
    "    \n",
    "    for root,directories,filenames in os.walk(root_dir):\n",
    "        for filename in filenames:\n",
    "            if any(ext in filename for ext in E):\n",
    "                file_list.append(os.path.join(root,filename))\n",
    "    return file_list\n",
    "\n",
    "get_file_list(\"F:\\Machine Learning intern1\",E)"
   ]
  },
  {
   "cell_type": "code",
   "execution_count": null,
   "metadata": {},
   "outputs": [],
   "source": []
  }
 ],
 "metadata": {
  "kernelspec": {
   "display_name": "Python 3",
   "language": "python",
   "name": "python3"
  },
  "language_info": {
   "codemirror_mode": {
    "name": "ipython",
    "version": 3
   },
   "file_extension": ".py",
   "mimetype": "text/x-python",
   "name": "python",
   "nbconvert_exporter": "python",
   "pygments_lexer": "ipython3",
   "version": "3.8.0"
  }
 },
 "nbformat": 4,
 "nbformat_minor": 4
}
