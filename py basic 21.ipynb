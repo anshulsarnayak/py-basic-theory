{
 "cells": [
  {
   "cell_type": "markdown",
   "metadata": {},
   "source": [
    "1. Add the current date to the text file today.txt as a string.\n",
    ":\n",
    "from datetime import date\n",
    "t=date.today()\n",
    "f=open('today.txt','wt')\n",
    "f.write(str(t))\n",
    "\n",
    "2. Read the text file today.txt into the string today_string\n",
    ":\n",
    "f=open('today.txt','r')\n",
    "today_string=f.read()\n",
    "today_string\n",
    "\n",
    "3. Parse the date from today_string.\n",
    "date=today_string.split(sep='-')[2]\n",
    "\n",
    "4. List the files in your current directory\n",
    ":\n",
    "import os\n",
    "os.listdir()\n",
    "\n",
    "5. Create a list of all of the files in your parent directory (minimum five files should be available).\n",
    ":\n",
    "import os\n",
    "os.listdir('..')\n",
    "\n",
    "6. Use multiprocessing to create three separate processes. Make each one wait a random number of seconds between one and five, print the current time, and then exit.\n",
    ":\n",
    "import multiprocessing\n",
    "def now(seconds):\n",
    "    from datetime import datetime\n",
    "    from time import sleep\n",
    "    sleep(seconds)\n",
    "    print('wait', seconds, 'seconds, time is', datetime.utcnow())\n",
    "    \n",
    "if __name__ == '__main__':\n",
    "    import random\n",
    "    for n in range(3):\n",
    "        seconds = random.random()\n",
    "        proc = multiprocessing.Process(target=now, args=(seconds,))\n",
    "        proc.start()\n",
    "7. Create a date object of your day of birth.\n",
    ":\n",
    "date='2000-5-27'\n",
    "\n",
    "8. What day of the week was your day of birth?\n",
    ":\n",
    "import calendar\n",
    "calendar.weekday(2000,5,27)\n",
    "\n",
    "9. When will you be (or when were you) 10,000 days old?\n",
    ":\n",
    "from datetime import date\n",
    "my_day=date(2000,5,27)\n",
    "from datetime import timedelta\n",
    "day = my_day + timedelta(days=10000)\n",
    "day\n",
    "datetime.date(2027, 10, 13)"
   ]
  },
  {
   "cell_type": "code",
   "execution_count": null,
   "metadata": {},
   "outputs": [],
   "source": []
  },
  {
   "cell_type": "code",
   "execution_count": null,
   "metadata": {},
   "outputs": [],
   "source": []
  }
 ],
 "metadata": {
  "kernelspec": {
   "display_name": "Python 3",
   "language": "python",
   "name": "python3"
  },
  "language_info": {
   "codemirror_mode": {
    "name": "ipython",
    "version": 3
   },
   "file_extension": ".py",
   "mimetype": "text/x-python",
   "name": "python",
   "nbconvert_exporter": "python",
   "pygments_lexer": "ipython3",
   "version": "3.8.0"
  }
 },
 "nbformat": 4,
 "nbformat_minor": 4
}
